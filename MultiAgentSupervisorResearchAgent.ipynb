{
  "nbformat": 4,
  "nbformat_minor": 0,
  "metadata": {
    "colab": {
      "provenance": [],
      "authorship_tag": "ABX9TyPMeShBL/9QNM7cf/YJMxqu",
      "include_colab_link": true
    },
    "kernelspec": {
      "name": "python3",
      "display_name": "Python 3"
    },
    "language_info": {
      "name": "python"
    }
  },
  "cells": [
    {
      "cell_type": "markdown",
      "metadata": {
        "id": "view-in-github",
        "colab_type": "text"
      },
      "source": [
        "<a href=\"https://colab.research.google.com/github/gargarushee/multiAgentHandsOnExcerciseTechFutures/blob/main/MultiAgentSupervisorResearchAgent.ipynb\" target=\"_parent\"><img src=\"https://colab.research.google.com/assets/colab-badge.svg\" alt=\"Open In Colab\"/></a>"
      ]
    },
    {
      "cell_type": "code",
      "execution_count": null,
      "metadata": {
        "collapsed": true,
        "id": "YLcThxMQKeHc"
      },
      "outputs": [],
      "source": [
        "# ============================================================================\n",
        "# SECTION 1: SETUP AND INSTALLATION\n",
        "# ============================================================================\n",
        "\n",
        "# Install required packages\n",
        "!pip install langgraph\n",
        "!pip install langsmith\n",
        "!pip install langchain-openai\n",
        "!pip install langgraph_supervisor\n",
        "!pip install python-dotenv\n",
        "!pip install langchain_google_genai"
      ]
    },
    {
      "cell_type": "markdown",
      "source": [
        "https://github.com/gargarushee/multiAgentHandsOnExcerciseTechFutures"
      ],
      "metadata": {
        "id": "ifzeA9D-S4Ee"
      }
    },
    {
      "cell_type": "markdown",
      "source": [
        "Setup API KEYS!!\n",
        "\n",
        "1. OPENAI_API_KEY https://platform.openai.com/api-keys\n",
        "2. TAVILY_SEARCH Sign up at https://www.tavily.com/ to get API KEY access for web search"
      ],
      "metadata": {
        "id": "PeLokxY4Pn26"
      }
    },
    {
      "cell_type": "markdown",
      "source": [],
      "metadata": {
        "id": "kBjXCQd-PTj3"
      }
    },
    {
      "cell_type": "code",
      "source": [
        "# Set your API keys here\n",
        "OPENAI_API_KEY = \"\"\n",
        "TAVILY_API_KEY = \"\"\n",
        "LANGSMITH_API_KEY = \"\""
      ],
      "metadata": {
        "id": "jyjNMOkcLF-u"
      },
      "execution_count": null,
      "outputs": []
    },
    {
      "cell_type": "code",
      "source": [
        "import os\n",
        "\n",
        "# IPython display components for visualization\n",
        "from IPython.display import Image, display"
      ],
      "metadata": {
        "id": "2pK-PxMSLqwg"
      },
      "execution_count": null,
      "outputs": []
    },
    {
      "cell_type": "code",
      "source": [
        "# =============================================================================\n",
        "# ENVIRONMENT SETUP\n",
        "# =============================================================================\n",
        "\n",
        "def _set_env(var: str, value: str) -> None:\n",
        "  os.environ[var] = value\n",
        "\n",
        "# Set API keys from the variables defined earlier\n",
        "_set_env(\"OPENAI_API_KEY\", OPENAI_API_KEY)\n",
        "_set_env(\"LANGSMITH_API_KEY\", LANGSMITH_API_KEY)\n",
        "_set_env(\"TAVILY_API_KEY\", TAVILY_API_KEY)\n",
        "\n",
        "\n",
        "# Optional: Enable LangSmith tracing for observability\n",
        "# This allows us to trace and debug our agent interactions\n",
        "os.environ[\"LANGCHAIN_TRACING_V2\"] = \"true\""
      ],
      "metadata": {
        "id": "EVN1QsIrLgIa"
      },
      "execution_count": null,
      "outputs": []
    },
    {
      "cell_type": "markdown",
      "source": [
        "**Supervisor (tool-calling)¶**\n",
        "In this variant of the supervisor architecture, we define a supervisor agent which is responsible for calling sub-agents. The sub-agents are exposed to the supervisor as tools, and the supervisor agent decides which tool to call next. The supervisor agent follows a standard implementation as an LLM running in a while loop calling tools until it decides to stop."
      ],
      "metadata": {
        "id": "cg7bYYsGL1CF"
      }
    },
    {
      "cell_type": "markdown",
      "source": [
        "Lets create a demo Supervisor graph!!"
      ],
      "metadata": {
        "id": "PgicKW5wPCUj"
      }
    },
    {
      "cell_type": "code",
      "source": [
        "from typing import Literal\n",
        "from langchain_openai import ChatOpenAI\n",
        "from langgraph.types import Command\n",
        "from langgraph.graph import StateGraph, MessagesState, START, END\n",
        "\n",
        "model = ChatOpenAI()\n",
        "\n",
        "def supervisor(state: MessagesState) -> Command[Literal[\"agent_1\", \"agent_2\", END]]:\n",
        "    # you can pass relevant parts of the state to the LLM (e.g., state[\"messages\"])\n",
        "    # to determine which agent to call next. a common pattern is to call the model\n",
        "    # with a structured output (e.g. force it to return an output with a \"next_agent\" field)\n",
        "    response = model.invoke(...)\n",
        "    # route to one of the agents or exit based on the supervisor's decision\n",
        "    # if the supervisor returns \"__end__\", the graph will finish execution\n",
        "    return Command(goto=response[\"next_agent\"])\n",
        "\n",
        "def agent_1(state: MessagesState) -> Command[Literal[\"supervisor\"]]:\n",
        "    # you can pass relevant parts of the state to the LLM (e.g., state[\"messages\"])\n",
        "    # and add any additional logic (different models, custom prompts, structured output, etc.)\n",
        "    response = model.invoke(...)\n",
        "    return Command(\n",
        "        goto=\"supervisor\",\n",
        "        update={\"messages\": [response]},\n",
        "    )\n",
        "\n",
        "def agent_2(state: MessagesState) -> Command[Literal[\"supervisor\"]]:\n",
        "    response = model.invoke(...)\n",
        "    return Command(\n",
        "        goto=\"supervisor\",\n",
        "        update={\"messages\": [response]},\n",
        "    )\n",
        "\n",
        "builder = StateGraph(MessagesState)\n",
        "builder.add_node(supervisor)\n",
        "builder.add_node(agent_1)\n",
        "builder.add_node(agent_2)\n",
        "\n",
        "builder.add_edge(START, \"supervisor\")\n",
        "\n",
        "supervisor = builder.compile()"
      ],
      "metadata": {
        "id": "Clfw3MmlKf9n"
      },
      "execution_count": null,
      "outputs": []
    },
    {
      "cell_type": "code",
      "source": [
        "# =============================================================================\n",
        "# WORKFLOW VISUALIZATION\n",
        "# =============================================================================\n",
        "\n",
        "print(\"🎨 Generating workflow diagram...\")\n",
        "workflow_diagram = supervisor.get_graph().draw_mermaid_png()\n",
        "display(Image(workflow_diagram))"
      ],
      "metadata": {
        "colab": {
          "base_uri": "https://localhost:8080/",
          "height": 284
        },
        "id": "q7fEpE1cLR6X",
        "outputId": "ea88e1c1-8a72-495f-9d48-3bbfca645cc7"
      },
      "execution_count": null,
      "outputs": [
        {
          "output_type": "stream",
          "name": "stdout",
          "text": [
            "🎨 Generating workflow diagram...\n"
          ]
        },
        {
          "output_type": "display_data",
          "data": {
            "image/png": "[encoded data removed]",
            "text/plain": [
              "<IPython.core.display.Image object>"
            ]
          },
          "metadata": {}
        }
      ]
    },
    {
      "cell_type": "markdown",
      "source": [
        "## Lets Try it Yourself!!\n",
        "\n",
        "Now lets add one more subagents to the graph and render the flow diagram."
      ],
      "metadata": {
        "id": "IVTqLfRSp2F-"
      }
    },
    {
      "cell_type": "code",
      "source": [],
      "metadata": {
        "id": "_ob1Eqtqp2aD"
      },
      "execution_count": null,
      "outputs": []
    },
    {
      "cell_type": "markdown",
      "source": [
        "Setup\n",
        "First, let's install required packages and set our API keys"
      ],
      "metadata": {
        "id": "wayG29GGMUWU"
      }
    },
    {
      "cell_type": "code",
      "source": [
        "%%capture --no-stderr\n",
        "%pip install -U langgraph langgraph-supervisor langchain-tavily \"langchain[openai]\""
      ],
      "metadata": {
        "id": "kakhbZ76MXBR"
      },
      "execution_count": null,
      "outputs": []
    },
    {
      "cell_type": "markdown",
      "source": [
        "1. Create worker agents\n",
        "\n",
        "First, let's create our specialized worker agents — research agent and math agent:\n",
        "\n",
        "Research agent will have access to a web search tool using Tavily API\n",
        "Math agent will have access to simple math tools (add, multiply, divide)"
      ],
      "metadata": {
        "id": "rc4rgE0JMHOT"
      }
    },
    {
      "cell_type": "markdown",
      "source": [
        "Research agent\n",
        "For web search, we will use TavilySearch tool from langchain-tavily:"
      ],
      "metadata": {
        "id": "jIbdy4moMLNe"
      }
    },
    {
      "cell_type": "code",
      "source": [
        "from langchain_tavily import TavilySearch\n",
        "\n",
        "web_search = TavilySearch(max_results=3)\n",
        "web_search_results = web_search.invoke(\"who is the mayor of NYC?\")\n",
        "\n",
        "print(web_search_results[\"results\"][0][\"content\"])"
      ],
      "metadata": {
        "colab": {
          "base_uri": "https://localhost:8080/"
        },
        "id": "kUvHhhrCMDyU",
        "outputId": "36d2eb4b-bfed-4347-8dd7-f069386d2913"
      },
      "execution_count": null,
      "outputs": [
        {
          "output_type": "stream",
          "name": "stdout",
          "text": [
            "The current mayor isEric Adams, who was elected on November 2, 2021, and took office shortly after midnight on January 1, 2022.\n"
          ]
        }
      ]
    },
    {
      "cell_type": "markdown",
      "source": [
        "To create individual worker agents, we will use LangGraph's prebuilt agent."
      ],
      "metadata": {
        "id": "ClAm7vyeM6Y2"
      }
    },
    {
      "cell_type": "code",
      "source": [
        "from langgraph.prebuilt import create_react_agent\n",
        "\n",
        "research_agent = create_react_agent(\n",
        "    model=\"openai:gpt-4.1\",\n",
        "    tools=[web_search],\n",
        "    prompt=(\n",
        "        \"You are a research agent.\\n\\n\"\n",
        "        \"INSTRUCTIONS:\\n\"\n",
        "        \"- Assist ONLY with research-related tasks, DO NOT do any math\\n\"\n",
        "        \"- After you're done with your tasks, respond to the supervisor directly\\n\"\n",
        "        \"- Respond ONLY with the results of your work, do NOT include ANY other text.\"\n",
        "    ),\n",
        "    name=\"research_agent\",\n",
        ")"
      ],
      "metadata": {
        "id": "5-vHXsuqMD6s"
      },
      "execution_count": null,
      "outputs": []
    },
    {
      "cell_type": "code",
      "source": [
        "from langchain_core.messages import convert_to_messages\n",
        "\n",
        "\n",
        "def pretty_print_message(message, indent=False):\n",
        "    pretty_message = message.pretty_repr(html=True)\n",
        "    if not indent:\n",
        "        print(pretty_message)\n",
        "        return\n",
        "\n",
        "    indented = \"\\n\".join(\"\\t\" + c for c in pretty_message.split(\"\\n\"))\n",
        "    print(indented)\n",
        "\n",
        "\n",
        "def pretty_print_messages(update, last_message=False):\n",
        "    is_subgraph = False\n",
        "    if isinstance(update, tuple):\n",
        "        ns, update = update\n",
        "        # skip parent graph updates in the printouts\n",
        "        if len(ns) == 0:\n",
        "            return\n",
        "\n",
        "        graph_id = ns[-1].split(\":\")[0]\n",
        "        print(f\"Update from subgraph {graph_id}:\")\n",
        "        print(\"\\n\")\n",
        "        is_subgraph = True\n",
        "\n",
        "    for node_name, node_update in update.items():\n",
        "        update_label = f\"Update from node {node_name}:\"\n",
        "        if is_subgraph:\n",
        "            update_label = \"\\t\" + update_label\n",
        "\n",
        "        print(update_label)\n",
        "        print(\"\\n\")\n",
        "\n",
        "        messages = convert_to_messages(node_update[\"messages\"])\n",
        "        if last_message:\n",
        "            messages = messages[-1:]\n",
        "\n",
        "        for m in messages:\n",
        "            pretty_print_message(m, indent=is_subgraph)\n",
        "        print(\"\\n\")"
      ],
      "metadata": {
        "id": "ekxDncPZMEBs"
      },
      "execution_count": null,
      "outputs": []
    },
    {
      "cell_type": "markdown",
      "source": [
        "Let's run the agent\n",
        "# Can run out of API credits so we have put the outputin next cell"
      ],
      "metadata": {
        "id": "Oo_daLMqNpAp"
      }
    },
    {
      "cell_type": "code",
      "source": [
        "for chunk in research_agent.stream(\n",
        "    {\"messages\": [{\"role\": \"user\", \"content\": \"who is the mayor of NYC?\"}]}\n",
        "):\n",
        "    pretty_print_messages(chunk)"
      ],
      "metadata": {
        "id": "_RnYyADDNTjZ"
      },
      "execution_count": null,
      "outputs": []
    },
    {
      "cell_type": "markdown",
      "source": [
        "Output:\n",
        "Update from node agent:\n",
        "\n",
        "\n",
        "================================== Ai Message =============================\n",
        "Name: research_agent\n",
        "Tool Calls:\n",
        "  tavily_search (call_U748rQhQXT36sjhbkYLSXQtJ)\n",
        " Call ID: call_U748rQhQXT36sjhbkYLSXQtJ\n",
        "  Args:\n",
        "    query: current mayor of New York City\n",
        "    search_depth: basic\n",
        "\n",
        "\n",
        "Update from node tools:\n",
        "\n",
        "\n",
        "================================= Tool Message=============================\n",
        "Name: tavily_search\n",
        "\n",
        "{\"query\": \"current mayor of New York City\", \"follow_up_questions\": null, \"answer\": null, \"images\": [], \"results\": [{\"title\": \"List of mayors of New York City - Wikipedia\", \"url\": \"https://en.wikipedia.org/wiki/List_of_mayors_of_New_York_City\", \"content\": \"The mayor of New York City is the chief executive of the Government of New York City, as stipulated by New York City's charter.The current officeholder, the 110th in the sequence of regular mayors, is Eric Adams, a member of the Democratic Party.. During the Dutch colonial period from 1624 to 1664, New Amsterdam was governed by the Director of Netherland.\", \"score\": 0.9039154, \"raw_content\": null}, {\"title\": \"Office of the Mayor | Mayor's Bio | City of New York - NYC.gov\", \"url\": \"https://www.nyc.gov/office-of-the-mayor/bio.page\", \"content\": \"Mayor Eric Adams has served the people of New York City as an NYPD officer, State Senator, Brooklyn Borough President, and now as the 110th Mayor of the City of New York. He gave voice to a diverse coalition of working families in all five boroughs and is leading the fight to bring back New York City's economy, reduce inequality, improve\", \"score\": 0.8405867, \"raw_content\": null}, {\"title\": \"Eric Adams - Wikipedia\", \"url\": \"https://en.wikipedia.org/wiki/Eric_Adams\", \"content\": \"Eric Leroy Adams (born September 1, 1960) is an American politician and former police officer who has served as the 110th mayor of New York City since 2022. Adams was an officer in the New York City Transit Police and then the New York City Police Department (```"
      ],
      "metadata": {
        "id": "fKylPzg7NVK2"
      }
    },
    {
      "cell_type": "markdown",
      "source": [
        "Math agent¶\n",
        "For math agent tools we will use vanilla Python functions:"
      ],
      "metadata": {
        "id": "6wNxjGpONPqY"
      }
    },
    {
      "cell_type": "code",
      "source": [
        "def add(a: float, b: float):\n",
        "    \"\"\"Add two numbers.\"\"\"\n",
        "    return a + b\n",
        "\n",
        "\n",
        "def multiply(a: float, b: float):\n",
        "    \"\"\"Multiply two numbers.\"\"\"\n",
        "    return a * b\n",
        "\n",
        "\n",
        "def divide(a: float, b: float):\n",
        "    \"\"\"Divide two numbers.\"\"\"\n",
        "    return a / b\n",
        "\n",
        "\n",
        "math_agent = create_react_agent(\n",
        "    model=\"openai:gpt-4.1\",\n",
        "    tools=[add, multiply, divide],\n",
        "    prompt=(\n",
        "        \"You are a math agent.\\n\\n\"\n",
        "        \"INSTRUCTIONS:\\n\"\n",
        "        \"- Assist ONLY with math-related tasks\\n\"\n",
        "        \"- After you're done with your tasks, respond to the supervisor directly\\n\"\n",
        "        \"- Respond ONLY with the results of your work, do NOT include ANY other text.\"\n",
        "    ),\n",
        "    name=\"math_agent\",\n",
        ")"
      ],
      "metadata": {
        "id": "k1sQpNcZNQT6"
      },
      "execution_count": null,
      "outputs": []
    },
    {
      "cell_type": "markdown",
      "source": [
        "Let's run the math agent:"
      ],
      "metadata": {
        "id": "QVX9P-3RNk6s"
      }
    },
    {
      "cell_type": "code",
      "source": [
        "for chunk in math_agent.stream(\n",
        "    {\"messages\": [{\"role\": \"user\", \"content\": \"what's (3 + 5) x 7\"}]}\n",
        "):\n",
        "    pretty_print_messages(chunk)"
      ],
      "metadata": {
        "collapsed": true,
        "id": "GzURzpDcNjOz"
      },
      "execution_count": null,
      "outputs": []
    },
    {
      "cell_type": "markdown",
      "source": [
        "Output:\n",
        "Update from node agent:\n",
        "\n",
        "\n",
        "================================== Ai Message ============\n",
        "Name: math_agent\n",
        "Tool Calls:\n",
        "  add (call_p6OVLDHB4LyCNCxPOZzWR15v)\n",
        " Call ID: call_p6OVLDHB4LyCNCxPOZzWR15v\n",
        "  Args:\n",
        "    a: 3\n",
        "    b: 5\n",
        "\n",
        "\n",
        "Update from node tools:\n",
        "\n",
        "\n",
        "================================= Tool Message =======\n",
        "Name: add\n",
        "\n",
        "8.0\n",
        "\n",
        "\n",
        "Update from node agent:\n",
        "\n",
        "\n",
        "================================== Ai Message ============\n",
        "Name: math_agent\n",
        "Tool Calls:\n",
        "  multiply (call_EoaWHMLFZAX4AkajQCtZvbli)\n",
        " Call ID: call_EoaWHMLFZAX4AkajQCtZvbli\n",
        "  Args:\n",
        "    a: 8\n",
        "    b: 7\n",
        "\n",
        "\n",
        "Update from node tools:\n",
        "\n",
        "\n",
        "================================= Tool Message ========\n",
        "Name: multiply\n",
        "\n",
        "56.0\n",
        "\n",
        "\n",
        "Update from node agent:\n",
        "\n",
        "\n",
        "================================== Ai Message ========\n",
        "Name: math_agent\n",
        "\n",
        "56"
      ],
      "metadata": {
        "id": "Rfj7-HSNN2Ru"
      }
    },
    {
      "cell_type": "markdown",
      "source": [
        "2. Create supervisor with langgraph-supervisor¶\n",
        "To implement out multi-agent system, we will use create_supervisor from the prebuilt langgraph-supervisor library:"
      ],
      "metadata": {
        "id": "BFUI4OteN7gZ"
      }
    },
    {
      "cell_type": "code",
      "source": [
        "from langgraph_supervisor import create_supervisor\n",
        "from langchain.chat_models import init_chat_model\n",
        "\n",
        "supervisor = create_supervisor(\n",
        "    model=init_chat_model(\"openai:gpt-4.1\"),\n",
        "    agents=[research_agent, math_agent],\n",
        "    prompt=(\n",
        "        \"You are a supervisor managing two agents:\\n\"\n",
        "        \"- a research agent. Assign research-related tasks to this agent\\n\"\n",
        "        \"- a math agent. Assign math-related tasks to this agent\\n\"\n",
        "        \"Assign work to one agent at a time, do not call agents in parallel.\\n\"\n",
        "        \"Do not do any work yourself.\"\n",
        "    ),\n",
        "    add_handoff_back_messages=True,\n",
        "    output_mode=\"full_history\",\n",
        ").compile()"
      ],
      "metadata": {
        "id": "Lw7kSCLXN4gl"
      },
      "execution_count": null,
      "outputs": []
    },
    {
      "cell_type": "markdown",
      "source": [
        "Note: When you run this code, it will generate and display a visual representation of the supervisor graph showing the flow between the supervisor and worker agents."
      ],
      "metadata": {
        "id": "aOg5NAt7ODp-"
      }
    },
    {
      "cell_type": "code",
      "source": [
        "from IPython.display import display, Image\n",
        "\n",
        "display(Image(supervisor.get_graph().draw_mermaid_png()))"
      ],
      "metadata": {
        "colab": {
          "base_uri": "https://localhost:8080/",
          "height": 266
        },
        "id": "1Fn5PPy_N_wk",
        "outputId": "256f43bc-7f21-4298-c21c-3d48c45949cd"
      },
      "execution_count": null,
      "outputs": [
        {
          "output_type": "display_data",
          "data": {
            "image/png": "[encoded data removed]",
            "text/plain": [
              "<IPython.core.display.Image object>"
            ]
          },
          "metadata": {}
        }
      ]
    },
    {
      "cell_type": "markdown",
      "source": [
        "Let's now run it with a query that requires both agents:\n",
        "\n",
        "research agent will look up the necessary GDP information\n",
        "math agent will perform division to find the percentage of NY state GDP, as requested"
      ],
      "metadata": {
        "id": "9u--t7AAOHAr"
      }
    },
    {
      "cell_type": "code",
      "source": [
        "for chunk in supervisor.stream(\n",
        "    {\n",
        "        \"messages\": [\n",
        "            {\n",
        "                \"role\": \"user\",\n",
        "                \"content\": \"find US and New York state GDP in 2024. what % of US GDP was New York state?\",\n",
        "            }\n",
        "        ]\n",
        "    },\n",
        "):\n",
        "    pretty_print_messages(chunk, last_message=True)\n",
        "\n",
        "final_message_history = chunk[\"supervisor\"][\"messages\"]"
      ],
      "metadata": {
        "id": "vtODOEuSOEie"
      },
      "execution_count": null,
      "outputs": []
    },
    {
      "cell_type": "markdown",
      "source": [
        "Output:\n",
        "\n",
        "Update from node supervisor:\n",
        "\n",
        "\n",
        "================================= Tool Message ========\n",
        "\n",
        "Name: transfer_to_research_agent\n",
        "\n",
        "Successfully transferred to research_agent\n",
        "\n",
        "\n",
        "Update from node research_agent:\n",
        "\n",
        "\n",
        "================================= Tool Message ==========\n",
        "\n",
        "Name: transfer_back_to_supervisor\n",
        "\n",
        "Successfully transferred back to supervisor\n",
        "\n",
        "\n",
        "Update from node supervisor:\n",
        "\n",
        "\n",
        "================================= Tool Message ========\n",
        "\n",
        "Name: transfer_to_math_agent\n",
        "\n",
        "Successfully transferred to math_agent\n",
        "\n",
        "\n",
        "Update from node math_agent:\n",
        "\n",
        "\n",
        "================================= Tool Message ========\n",
        "\n",
        "Name: transfer_back_to_supervisor\n",
        "\n",
        "Successfully transferred back to supervisor\n",
        "\n",
        "\n",
        "Update from node supervisor:\n",
        "\n",
        "\n",
        "================================== Ai Message =========\n",
        "\n",
        "Name: supervisor\n",
        "\n",
        "In 2024, the US GDP was $29.18 trillion and New York State's GDP was $2.297 trillion. New York State accounted for approximately 7.87% of the total US GDP in 2024."
      ],
      "metadata": {
        "id": "sDSzwZ6sOKbK"
      }
    },
    {
      "cell_type": "code",
      "source": [],
      "metadata": {
        "id": "sDFlOXtPOOUU"
      },
      "execution_count": null,
      "outputs": []
    }
  ]
}